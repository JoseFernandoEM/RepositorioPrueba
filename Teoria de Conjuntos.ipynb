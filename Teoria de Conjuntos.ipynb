{
 "cells": [
  {
   "cell_type": "markdown",
   "id": "73704c56",
   "metadata": {},
   "source": [
    "# Teoria de conjuntos"
   ]
  },
  {
   "cell_type": "markdown",
   "id": "2ec60a82",
   "metadata": {},
   "source": [
    "La teoría de conjuntos es un área de estudio enfocada en los conjuntos. Por tanto, se encarga de analizar tanto los atributos que poseen, como las relaciones que pueden establecerse entre ellos. Es decir, su unión, intersección, complemento u otro."
   ]
  },
  {
   "cell_type": "markdown",
   "id": "80ce1e26",
   "metadata": {},
   "source": [
    "## Creacion de conjuntos"
   ]
  },
  {
   "cell_type": "markdown",
   "id": "df6733b5",
   "metadata": {},
   "source": [
    "En python, podras crear un conjunto utilizando llaves {} o la funcion "
   ]
  },
  {
   "cell_type": "code",
   "execution_count": 7,
   "id": "ed1550e9",
   "metadata": {},
   "outputs": [],
   "source": [
    "A = {1,2,3,4,5}"
   ]
  },
  {
   "cell_type": "code",
   "execution_count": 8,
   "id": "b99467bb",
   "metadata": {},
   "outputs": [],
   "source": [
    "B = {3,4,5,6,7}"
   ]
  },
  {
   "cell_type": "code",
   "execution_count": 9,
   "id": "1c9e57c9",
   "metadata": {},
   "outputs": [],
   "source": [
    "C = {9,6,4,2,1}"
   ]
  },
  {
   "cell_type": "markdown",
   "id": "b63d0829",
   "metadata": {},
   "source": [
    "## Listas y Conjuntos"
   ]
  },
  {
   "cell_type": "code",
   "execution_count": 2,
   "id": "a98aa440",
   "metadata": {},
   "outputs": [],
   "source": [
    "lista = {1,2,3,4,5,6,7,8,9}"
   ]
  },
  {
   "cell_type": "code",
   "execution_count": 3,
   "id": "66230c81",
   "metadata": {},
   "outputs": [
    {
     "data": {
      "text/plain": [
       "{1, 2, 3, 4, 5, 6, 7, 8, 9}"
      ]
     },
     "execution_count": 3,
     "metadata": {},
     "output_type": "execute_result"
    }
   ],
   "source": [
    "lista"
   ]
  },
  {
   "cell_type": "code",
   "execution_count": 5,
   "id": "71cfb6fb",
   "metadata": {},
   "outputs": [],
   "source": [
    "conjunto = set(lista)"
   ]
  },
  {
   "cell_type": "code",
   "execution_count": 6,
   "id": "25ad52ad",
   "metadata": {},
   "outputs": [
    {
     "data": {
      "text/plain": [
       "{1, 2, 3, 4, 5, 6, 7, 8, 9}"
      ]
     },
     "execution_count": 6,
     "metadata": {},
     "output_type": "execute_result"
    }
   ],
   "source": [
    "conjunto"
   ]
  },
  {
   "cell_type": "markdown",
   "id": "3a16a739",
   "metadata": {},
   "source": [
    "## Operaciones"
   ]
  },
  {
   "cell_type": "markdown",
   "id": "3ce101f7",
   "metadata": {},
   "source": [
    "Python, proporciona operadores y metodos para realizar operaciones basicas de conjuntos como union, interseccion, diferencia y diferencia simetrica."
   ]
  },
  {
   "cell_type": "markdown",
   "id": "3b063ef2",
   "metadata": {},
   "source": [
    "## Union"
   ]
  },
  {
   "cell_type": "markdown",
   "id": "bb4db974",
   "metadata": {},
   "source": [
    "Formalmete si A y B son conjutnos, la union de A y B se define como el conjutno C que contiene todos los elementos que pertenecen a A, a B, o a ambos. Matematicamente, esto puede expresar como:\n",
    "\n",
    "$$A \\cup B =  x \\mid x \\in A \\quad x \\in B$$\n",
    "\n",
    "En python, la operacion de union puede realziarse utilizando el operador | o el metodo union()"
   ]
  },
  {
   "cell_type": "code",
   "execution_count": 10,
   "id": "e1332bc3",
   "metadata": {},
   "outputs": [
    {
     "data": {
      "text/plain": [
       "{1, 2, 3, 4, 5, 6, 7, 8}"
      ]
     },
     "execution_count": 10,
     "metadata": {},
     "output_type": "execute_result"
    }
   ],
   "source": [
    "A | B"
   ]
  },
  {
   "cell_type": "code",
   "execution_count": 11,
   "id": "ba867d8b",
   "metadata": {},
   "outputs": [
    {
     "data": {
      "text/plain": [
       "{1, 2, 3, 4, 5, 6, 7, 8}"
      ]
     },
     "execution_count": 11,
     "metadata": {},
     "output_type": "execute_result"
    }
   ],
   "source": [
    "A.union(B)"
   ]
  },
  {
   "cell_type": "markdown",
   "id": "9e27dc13",
   "metadata": {},
   "source": [
    "## Interseccion"
   ]
  },
  {
   "cell_type": "markdown",
   "id": "a1dd1cf7",
   "metadata": {},
   "source": [
    "En la teoría de conjuntos, la intersección es una operación que se realiza entre dos conjuntos y consiste en encontrar los elementos que pertenecen a ambos conjuntos simultáneamente. En otras palabras, la intersección de dos conjuntos A y B contiene todos los elementos que son comunes a ambos conjuntos.\n",
    "\n",
    "$$A \\cap B =  x \\mid x \\in A \\quad x \\in B$$"
   ]
  },
  {
   "cell_type": "code",
   "execution_count": 12,
   "id": "4073b0ef",
   "metadata": {},
   "outputs": [
    {
     "data": {
      "text/plain": [
       "{2, 3, 5}"
      ]
     },
     "execution_count": 12,
     "metadata": {},
     "output_type": "execute_result"
    }
   ],
   "source": [
    "A & B"
   ]
  },
  {
   "cell_type": "code",
   "execution_count": 54,
   "id": "a5552673-cda5-4032-9164-8cf36f1adbc9",
   "metadata": {},
   "outputs": [
    {
     "data": {
      "text/plain": [
       "{4, 5}"
      ]
     },
     "execution_count": 54,
     "metadata": {},
     "output_type": "execute_result"
    }
   ],
   "source": [
    "A.intersection(B)"
   ]
  },
  {
   "cell_type": "markdown",
   "id": "15af73cc",
   "metadata": {},
   "source": [
    "## Diferencia"
   ]
  },
  {
   "cell_type": "markdown",
   "id": "8d734c2f",
   "metadata": {},
   "source": [
    "La diferencia entre dos conjuntos es un nuevo conjunto que contiene los elementos que están en el primer conjunto pero no en el segundo. En otras palabras, si tienes dos conjuntos A y B, la diferencia de A con respecto a B contiene los elementos que están en A pero no en B.\n",
    "\n",
    "$$A - B =  x \\mid x \\in A \\quad x \\in B$$"
   ]
  },
  {
   "cell_type": "code",
   "execution_count": 13,
   "id": "26f60bc0",
   "metadata": {},
   "outputs": [
    {
     "data": {
      "text/plain": [
       "{1, 4, 6}"
      ]
     },
     "execution_count": 13,
     "metadata": {},
     "output_type": "execute_result"
    }
   ],
   "source": [
    "A - B"
   ]
  },
  {
   "cell_type": "code",
   "execution_count": 55,
   "id": "76dd2891-74d9-4757-bc5f-2d758ac17974",
   "metadata": {},
   "outputs": [
    {
     "data": {
      "text/plain": [
       "{1, 2, 3}"
      ]
     },
     "execution_count": 55,
     "metadata": {},
     "output_type": "execute_result"
    }
   ],
   "source": [
    "A.difference(B)"
   ]
  },
  {
   "cell_type": "markdown",
   "id": "cf2a5b70",
   "metadata": {},
   "source": [
    "## Diferencia simetrica"
   ]
  },
  {
   "cell_type": "markdown",
   "id": "330eb9c9",
   "metadata": {},
   "source": [
    "La diferencia simétrica entre dos conjuntos es un nuevo conjunto que contiene los elementos que están en uno de los conjuntos pero no en el otro. Es decir, incluye los elementos que están en A pero no en B, y los elementos que están en B pero no en A. En otras palabras, la diferencia simétrica entre A y B contiene todos los elementos que no son comunes a ambos conjuntos.\n",
    "\n",
    "$$A \\Delta B =  x \\mid x \\in A \\quad x \\in B$$"
   ]
  },
  {
   "cell_type": "code",
   "execution_count": 14,
   "id": "cfbf1dec",
   "metadata": {},
   "outputs": [
    {
     "data": {
      "text/plain": [
       "{1, 4, 6, 7, 8}"
      ]
     },
     "execution_count": 14,
     "metadata": {},
     "output_type": "execute_result"
    }
   ],
   "source": [
    "A ^ B"
   ]
  },
  {
   "cell_type": "code",
   "execution_count": 56,
   "id": "30a1ebcd-9494-45c3-9856-a916bff33af6",
   "metadata": {},
   "outputs": [
    {
     "data": {
      "text/plain": [
       "{1, 2, 3, 6, 7, 8}"
      ]
     },
     "execution_count": 56,
     "metadata": {},
     "output_type": "execute_result"
    }
   ],
   "source": [
    "A.symmetric_difference(B)"
   ]
  },
  {
   "cell_type": "markdown",
   "id": "fc4f7e09",
   "metadata": {},
   "source": [
    "# Diagramas de Venn"
   ]
  },
  {
   "cell_type": "markdown",
   "id": "43a3036f-e633-4b7e-abfa-a6df1267f38e",
   "metadata": {
    "jp-MarkdownHeadingCollapsed": true
   },
   "source": [
    "## Comando"
   ]
  },
  {
   "cell_type": "code",
   "execution_count": 2,
   "id": "b3730e8c",
   "metadata": {},
   "outputs": [
    {
     "name": "stdout",
     "output_type": "stream",
     "text": [
      "Collecting matplotlib_venn\n",
      "  Downloading matplotlib_venn-0.11.10-py3-none-any.whl.metadata (6.4 kB)\n",
      "Requirement already satisfied: matplotlib in c:\\users\\ferch\\anaconda3\\lib\\site-packages (from matplotlib_venn) (3.8.0)\n",
      "Requirement already satisfied: numpy in c:\\users\\ferch\\anaconda3\\lib\\site-packages (from matplotlib_venn) (1.26.4)\n",
      "Requirement already satisfied: scipy in c:\\users\\ferch\\anaconda3\\lib\\site-packages (from matplotlib_venn) (1.11.4)\n",
      "Requirement already satisfied: contourpy>=1.0.1 in c:\\users\\ferch\\anaconda3\\lib\\site-packages (from matplotlib->matplotlib_venn) (1.2.0)\n",
      "Requirement already satisfied: cycler>=0.10 in c:\\users\\ferch\\anaconda3\\lib\\site-packages (from matplotlib->matplotlib_venn) (0.11.0)\n",
      "Requirement already satisfied: fonttools>=4.22.0 in c:\\users\\ferch\\anaconda3\\lib\\site-packages (from matplotlib->matplotlib_venn) (4.25.0)\n",
      "Requirement already satisfied: kiwisolver>=1.0.1 in c:\\users\\ferch\\anaconda3\\lib\\site-packages (from matplotlib->matplotlib_venn) (1.4.4)\n",
      "Requirement already satisfied: packaging>=20.0 in c:\\users\\ferch\\anaconda3\\lib\\site-packages (from matplotlib->matplotlib_venn) (23.1)\n",
      "Requirement already satisfied: pillow>=6.2.0 in c:\\users\\ferch\\anaconda3\\lib\\site-packages (from matplotlib->matplotlib_venn) (10.2.0)\n",
      "Requirement already satisfied: pyparsing>=2.3.1 in c:\\users\\ferch\\anaconda3\\lib\\site-packages (from matplotlib->matplotlib_venn) (3.0.9)\n",
      "Requirement already satisfied: python-dateutil>=2.7 in c:\\users\\ferch\\anaconda3\\lib\\site-packages (from matplotlib->matplotlib_venn) (2.8.2)\n",
      "Requirement already satisfied: six>=1.5 in c:\\users\\ferch\\anaconda3\\lib\\site-packages (from python-dateutil>=2.7->matplotlib->matplotlib_venn) (1.16.0)\n",
      "Downloading matplotlib_venn-0.11.10-py3-none-any.whl (33 kB)\n",
      "Installing collected packages: matplotlib_venn\n",
      "Successfully installed matplotlib_venn-0.11.10\n",
      "Note: you may need to restart the kernel to use updated packages.\n"
     ]
    }
   ],
   "source": [
    "pip install matplotlib_venn"
   ]
  },
  {
   "cell_type": "markdown",
   "id": "6cfa4e1e-2357-4c41-ade3-b85bbac0277b",
   "metadata": {},
   "source": [
    "## Union"
   ]
  },
  {
   "cell_type": "code",
   "execution_count": 49,
   "id": "bfc8af80",
   "metadata": {},
   "outputs": [
    {
     "data": {
      "image/png": "[encoded data removed]",
      "text/plain": [
       "<Figure size 640x480 with 1 Axes>"
      ]
     },
     "metadata": {},
     "output_type": "display_data"
    }
   ],
   "source": [
    "from matplotlib import pyplot as plt\n",
    "from matplotlib_venn import venn2\n",
    "\n",
    "A = {1, 2, 3, 4, 5}\n",
    "B = {4, 5, 6, 7, 8}\n",
    "\n",
    "area10 = len(A)\n",
    "area01 = len(B)\n",
    "area11 = len(A | B)\n",
    "\n",
    "venn_diagram = venn2(subsets=(area10, area01, area11), set_labels=('Conjunto 1', 'Conjunto 2'))\n",
    "\n",
    "venn_diagram.get_label_by_id('10').set_text('\\n'.join(map(str, A)))\n",
    "venn_diagram.get_label_by_id('01').set_text('\\n'.join(map(str, B)))\n",
    "venn_diagram.get_label_by_id('11').set_text('\\n'.join(map(str, A | B)))\n",
    "\n",
    "plt.title(\"Diagrama de Venn\")\n",
    "plt.show()"
   ]
  },
  {
   "cell_type": "markdown",
   "id": "e851c3d9-94cd-45b2-a722-edb9b245d83c",
   "metadata": {},
   "source": [
    "## Interseccion"
   ]
  },
  {
   "cell_type": "code",
   "execution_count": 50,
   "id": "5c7bc55d",
   "metadata": {},
   "outputs": [
    {
     "data": {
      "image/png": "[encoded data removed]",
      "text/plain": [
       "<Figure size 640x480 with 1 Axes>"
      ]
     },
     "metadata": {},
     "output_type": "display_data"
    }
   ],
   "source": [
    "from matplotlib import pyplot as plt\n",
    "from matplotlib_venn import venn2\n",
    "\n",
    "A = {1, 2, 3, 4, 5}\n",
    "B = {4, 5, 6, 7, 8}\n",
    "\n",
    "area10 = len(A)\n",
    "area01 = len(B)\n",
    "area11 = len(A | B)\n",
    "\n",
    "venn_diagram = venn2(subsets=(area10, area01, area11), set_labels=('Conjunto 1', 'Conjunto 2'))\n",
    "\n",
    "venn_diagram.get_label_by_id('10').set_text('\\n'.join(map(str, A)))\n",
    "venn_diagram.get_label_by_id('01').set_text('\\n'.join(map(str, B)))\n",
    "venn_diagram.get_label_by_id('11').set_text('\\n'.join(map(str, A & B)))\n",
    "\n",
    "plt.title(\"Diagrama de Venn\")\n",
    "plt.show()"
   ]
  },
  {
   "cell_type": "markdown",
   "id": "c36a1fa8-0900-420e-b77d-f10d4b1c5ce7",
   "metadata": {},
   "source": [
    "## Diferencia"
   ]
  },
  {
   "cell_type": "code",
   "execution_count": 51,
   "id": "31397b38",
   "metadata": {},
   "outputs": [
    {
     "data": {
      "image/png": "[encoded data removed]",
      "text/plain": [
       "<Figure size 640x480 with 1 Axes>"
      ]
     },
     "metadata": {},
     "output_type": "display_data"
    }
   ],
   "source": [
    "from matplotlib import pyplot as plt\n",
    "from matplotlib_venn import venn2\n",
    "\n",
    "A = {1, 2, 3, 4, 5}\n",
    "B = {4, 5, 6, 7, 8}\n",
    "\n",
    "area10 = len(A)\n",
    "area01 = len(B)\n",
    "area11 = len(A | B)\n",
    "\n",
    "venn_diagram = venn2(subsets=(area10, area01, area11), set_labels=('Conjunto 1', 'Conjunto 2'))\n",
    "\n",
    "venn_diagram.get_label_by_id('10').set_text('\\n'.join(map(str, A)))\n",
    "venn_diagram.get_label_by_id('01').set_text('\\n'.join(map(str, B)))\n",
    "venn_diagram.get_label_by_id('11').set_text('\\n'.join(map(str, A - B)))\n",
    "\n",
    "plt.title(\"Diagrama de Venn\")\n",
    "plt.show()"
   ]
  },
  {
   "cell_type": "markdown",
   "id": "5dd5aabe-02dd-4d27-945f-c1e830372107",
   "metadata": {},
   "source": [
    "## Diferencia simetrica"
   ]
  },
  {
   "cell_type": "code",
   "execution_count": 52,
   "id": "2f9d12b4",
   "metadata": {},
   "outputs": [
    {
     "data": {
      "image/png": "[encoded data removed]",
      "text/plain": [
       "<Figure size 640x480 with 1 Axes>"
      ]
     },
     "metadata": {},
     "output_type": "display_data"
    }
   ],
   "source": [
    "from matplotlib import pyplot as plt\n",
    "from matplotlib_venn import venn2\n",
    "\n",
    "A = {1, 2, 3, 4, 5}\n",
    "B = {4, 5, 6, 7, 8}\n",
    "\n",
    "area10 = len(A)\n",
    "area01 = len(B)\n",
    "area11 = len(A | B)\n",
    "\n",
    "venn_diagram = venn2(subsets=(area10, area01, area11), set_labels=('Conjunto 1', 'Conjunto 2'))\n",
    "\n",
    "venn_diagram.get_label_by_id('10').set_text('\\n'.join(map(str, A)))\n",
    "venn_diagram.get_label_by_id('01').set_text('\\n'.join(map(str, B)))\n",
    "venn_diagram.get_label_by_id('11').set_text('\\n'.join(map(str, A ^ B)))\n",
    "\n",
    "plt.title(\"Diagrama de Venn\")\n",
    "plt.show()"
   ]
  }
 ],
 "metadata": {
  "kernelspec": {
   "display_name": "Python 3 (ipykernel)",
   "language": "python",
   "name": "python3"
  },
  "language_info": {
   "codemirror_mode": {
    "name": "ipython",
    "version": 3
   },
   "file_extension": ".py",
   "mimetype": "text/x-python",
   "name": "python",
   "nbconvert_exporter": "python",
   "pygments_lexer": "ipython3",
   "version": "3.11.7"
  }
 },
 "nbformat": 4,
 "nbformat_minor": 5
}
